{
 "cells": [
  {
   "cell_type": "code",
   "execution_count": 48,
   "metadata": {},
   "outputs": [],
   "source": [
    "import cv2\n",
    "import numpy as np"
   ]
  },
  {
   "cell_type": "code",
   "execution_count": 52,
   "metadata": {},
   "outputs": [],
   "source": [
    "# Video input path\n",
    "video_path = \"roads.mp4\"\n",
    "video = cv2.VideoCapture(video_path)\n",
    "\n",
    "# Video output path\n",
    "output_path = \"output_video.mp4\"\n",
    "\n",
    "# Get video properties (width, height, frames per second)\n",
    "width = int(video.get(3))\n",
    "height = int(video.get(4))\n",
    "fps = int(video.get(5))\n",
    "\n",
    "# Define codec and create VideoWriter object\n",
    "fourcc = cv2.VideoWriter_fourcc(*'XVID')\n",
    "output_video = cv2.VideoWriter(output_path, fourcc, fps, (width, height))\n",
    "\n",
    "_, prev_frame = video.read()\n",
    "\n",
    "while True:\n",
    "    ret, curr_frame = video.read()\n",
    "    if not ret:\n",
    "        break\n",
    "    frame_diff = cv2.absdiff(curr_frame, prev_frame)\n",
    "    frame_diff_gray = cv2.cvtColor(frame_diff, cv2.COLOR_BGR2GRAY)\n",
    "\n",
    "    # Erosion followed by dilation để lọc gợn ảnh\n",
    "    # kernel = np.ones((2,2),np.uint8)\n",
    "    # opening = cv2.morphologyEx(frame_diff_gray, cv2.MORPH_OPEN, kernel)\n",
    "\n",
    "    # Blur frames\n",
    "    opening = cv2.blur(frame_diff_gray, (10,10))\n",
    "\n",
    "    _, threshold = cv2.threshold(opening, 15, 255, cv2.THRESH_BINARY)\n",
    "\n",
    "    number_contours, hierachy = cv2.findContours(threshold.copy(), cv2.RETR_CCOMP,\n",
    "                                                      cv2.CHAIN_APPROX_SIMPLE)\n",
    "\n",
    "    test = curr_frame.copy()\n",
    "    for i in range(len(number_contours)):\n",
    "        if hierachy[0][i][3] == -1:\n",
    "            x1,y1,w,h= cv2.boundingRect(number_contours[i])\n",
    "            a = cv2.rectangle(test, (x1,y1), (x1+w, y1+h), color =[0,255,0], thickness= 1)\n",
    "\n",
    "    # Your processing code here\n",
    "\n",
    "    # Write the processed frame to the output video\n",
    "    output_video.write(a)  # You can change this to write the processed frame\n",
    "\n",
    "    prev_frame = curr_frame\n",
    "\n",
    "    cv2.imshow(\"frame\", a)\n",
    "\n",
    "    if cv2.waitKey(1) & 0xFF == ord('q'):\n",
    "        break\n",
    "\n",
    "# Release the VideoCapture and VideoWriter objects\n",
    "video.release()\n",
    "output_video.release()\n",
    "cv2.destroyAllWindows()\n"
   ]
  }
 ],
 "metadata": {
  "kernelspec": {
   "display_name": "Python 3",
   "language": "python",
   "name": "python3"
  },
  "language_info": {
   "codemirror_mode": {
    "name": "ipython",
    "version": 3
   },
   "file_extension": ".py",
   "mimetype": "text/x-python",
   "name": "python",
   "nbconvert_exporter": "python",
   "pygments_lexer": "ipython3",
   "version": "3.11.6"
  }
 },
 "nbformat": 4,
 "nbformat_minor": 2
}
